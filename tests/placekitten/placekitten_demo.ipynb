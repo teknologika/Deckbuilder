{
 "cells": [
  {
   "cell_type": "markdown",
   "metadata": {},
   "source": [
    "# PlaceKitten Demo Notebook 🐱\n",
    "\n",
    "Interactive demonstration of PlaceKitten's Phase 2 features:\n",
    "- Computer Vision Pipeline\n",
    "- Smart Cropping Engine\n",
    "- Step Visualization System\n",
    "- Filter Pipeline"
   ]
  },
  {
   "cell_type": "markdown",
   "metadata": {},
   "source": [
    "## Setup and Imports"
   ]
  },
  {
   "cell_type": "code",
   "metadata": {},
   "outputs": [],
   "source": "import sys\nimport os\nfrom pathlib import Path\nimport matplotlib.pyplot as plt\nimport matplotlib.image as mpimg\nfrom IPython.display import Image, display\nimport numpy as np\n\n# Add src to path\nproject_root = Path(os.getcwd()).parent.parent\nsrc_path = project_root / \"src\"\nsys.path.insert(0, str(src_path))\n\n# Create output folder for notebook images\noutput_folder = Path(\"notebook_output\")\noutput_folder.mkdir(exist_ok=True)\n\n# Import PlaceKitten\nfrom placekitten import PlaceKitten, list_available_filters\n\nprint(\"✅ PlaceKitten imported successfully!\")\nprint(f\"📁 Project root: {project_root}\")\nprint(f\"📁 Source path: {src_path}\")\nprint(f\"📁 Output folder: {output_folder.absolute()}\")\n\n# Helper function to get output path\ndef get_output_path(filename):\n    return str(output_folder / filename)"
  },
  {
   "cell_type": "markdown",
   "metadata": {},
   "source": [
    "## 1. Basic PlaceKitten Setup"
   ]
  },
  {
   "cell_type": "code",
   "metadata": {},
   "outputs": [],
   "source": "# Initialize PlaceKitten\nkitten = PlaceKitten(\"demo\")\n\n# Show available images\nimages = kitten.list_available_images()\ncount = kitten.get_image_count()\n\nprint(f\"🐱 Found {count} kitten images:\")\nfor i, img in enumerate(images, 1):  # Show with 1-based indexing\n    print(f\"  {i}: {img}\")\n\n# Show available filters\nfilters = list_available_filters()\nprint(f\"\\n🎨 Available filters: {', '.join(filters)}\")"
  },
  {
   "cell_type": "markdown",
   "metadata": {},
   "source": "## 2. New Flexible Features Demo\n\nPlaceKitten now supports:\n- **Optional dimensions**: Specify width only, height only, both, or neither\n- **Aspect ratio preservation**: When one dimension is given, the other is calculated\n- **Smart random selection**: Invalid or missing image_id automatically uses random\n- **1-based indexing**: More intuitive numbering (1=first image, not 0)",
   "outputs": []
  },
  {
   "cell_type": "code",
   "metadata": {},
   "outputs": [],
   "source": "# Generate images using new flexible features\n\n# 1. Full size image (no dimensions specified)\nfull_size = kitten.generate()\nfull_output = full_size.save(get_output_path(\"notebook_full_size.jpg\"))\nprint(f\"✅ Full size image: {full_size.get_size()}\")\n\n# 2. Width only - height calculated from aspect ratio\nwidth_only = kitten.generate(width=600, image_id=1)  # 1-based indexing\nwidth_output = width_only.save(get_output_path(\"notebook_width_only.jpg\"))\nprint(f\"✅ Width only (600px): {width_only.get_size()}\")\n\n# 3. Height only - width calculated from aspect ratio  \nheight_only = kitten.generate(height=400, image_id=1)  # Same image\nheight_output = height_only.save(get_output_path(\"notebook_height_only.jpg\"))\nprint(f\"✅ Height only (400px): {height_only.get_size()}\")\n\n# 4. Random image selection (no image_id)\nrandom_img = kitten.generate(width=500, height=300)\nrandom_output = random_img.save(get_output_path(\"notebook_random.jpg\"))\nprint(f\"✅ Random image: {random_img.get_size()}\")\n\n# Display examples\nfrom IPython.display import HTML\ndisplay(HTML(f\"\"\"\n<div style=\"display: flex; flex-wrap: wrap; gap: 20px;\">\n    <div>\n        <h4>Full Size</h4>\n        <img src=\"{full_output}\" style=\"max-width: 200px; height: auto;\">\n        <p>Size: {full_size.get_size()}</p>\n    </div>\n    <div>\n        <h4>Width Only (600px)</h4>\n        <img src=\"{width_output}\" style=\"max-width: 200px; height: auto;\">\n        <p>Size: {width_only.get_size()}</p>\n    </div>\n    <div>\n        <h4>Height Only (400px)</h4>\n        <img src=\"{height_output}\" style=\"max-width: 200px; height: auto;\">\n        <p>Size: {height_only.get_size()}</p>\n    </div>\n    <div>\n        <h4>Random Image</h4>\n        <img src=\"{random_output}\" style=\"max-width: 200px; height: auto;\">\n        <p>Size: {random_img.get_size()}</p>\n    </div>\n</div>\n\"\"\"))"
  },
  {
   "cell_type": "markdown",
   "metadata": {},
   "source": "## 3. Aspect Ratio Preservation Demo\n\nDemonstrate how PlaceKitten preserves aspect ratios when scaling:",
   "outputs": []
  },
  {
   "cell_type": "code",
   "metadata": {},
   "outputs": [],
   "source": "# Test aspect ratio preservation with same image\ntest_image_id = 1  # Use first image for consistency\n\n# Get original dimensions\noriginal = kitten.generate(image_id=test_image_id)\norig_w, orig_h = original.get_size()\norig_ratio = orig_w / orig_h\n\nprint(f\"📐 Original image: {orig_w}x{orig_h}\")\nprint(f\"📐 Original aspect ratio: {orig_ratio:.3f}\")\n\n# Scale by width only\nscaled_by_width = kitten.generate(width=800, image_id=test_image_id)\nscale_w_size = scaled_by_width.get_size()\nscale_w_ratio = scale_w_size[0] / scale_w_size[1]\n\nprint(f\"📐 Scaled by width (800px): {scale_w_size[0]}x{scale_w_size[1]}\")\nprint(f\"📐 New aspect ratio: {scale_w_ratio:.3f}\")\n\n# Scale by height only\nscaled_by_height = kitten.generate(height=600, image_id=test_image_id)\nscale_h_size = scaled_by_height.get_size()\nscale_h_ratio = scale_h_size[0] / scale_h_size[1]\n\nprint(f\"📐 Scaled by height (600px): {scale_h_size[0]}x{scale_h_size[1]}\")\nprint(f\"📐 New aspect ratio: {scale_h_ratio:.3f}\")\n\n# Check preservation\nratio_diff_w = abs(orig_ratio - scale_w_ratio)\nratio_diff_h = abs(orig_ratio - scale_h_ratio)\n\nif ratio_diff_w < 0.01 and ratio_diff_h < 0.01:\n    print(\"✅ Aspect ratios perfectly preserved!\")\nelse:\n    print(f\"❌ Aspect ratio drift: {ratio_diff_w:.4f}, {ratio_diff_h:.4f}\")\n\n# Save examples\norig_output = original.save(get_output_path(\"aspect_original.jpg\"))\nwidth_output = scaled_by_width.save(get_output_path(\"aspect_width_scaled.jpg\"))\nheight_output = scaled_by_height.save(get_output_path(\"aspect_height_scaled.jpg\"))\n\n# Visual comparison\nfrom IPython.display import HTML\ndisplay(HTML(f\"\"\"\n<div style=\"display: flex; gap: 20px; align-items: flex-start;\">\n    <div style=\"text-align: center;\">\n        <h4>Original</h4>\n        <img src=\"{orig_output}\" style=\"max-width: 200px; border: 2px solid #ccc;\">\n        <p>{orig_w}x{orig_h}<br>Ratio: {orig_ratio:.3f}</p>\n    </div>\n    <div style=\"text-align: center;\">\n        <h4>Width Scaled (800px)</h4>\n        <img src=\"{width_output}\" style=\"max-width: 200px; border: 2px solid #00f;\">\n        <p>{scale_w_size[0]}x{scale_w_size[1]}<br>Ratio: {scale_w_ratio:.3f}</p>\n    </div>\n    <div style=\"text-align: center;\">\n        <h4>Height Scaled (600px)</h4>\n        <img src=\"{height_output}\" style=\"max-width: 200px; border: 2px solid #f00;\">\n        <p>{scale_h_size[0]}x{scale_h_size[1]}<br>Ratio: {scale_h_ratio:.3f}</p>\n    </div>\n</div>\n\"\"\"))"
  },
  {
   "cell_type": "markdown",
   "metadata": {},
   "source": "## 4. Smart Random Selection Demo\n\nTest how PlaceKitten handles invalid/missing image IDs:",
   "outputs": []
  },
  {
   "cell_type": "code",
   "metadata": {},
   "outputs": [],
   "source": "# Test smart random selection\nprint(\"🎲 Testing smart random selection...\")\n\n# Valid image ID (should work normally)\nvalid_img = kitten.generate(width=300, height=200, image_id=1)\nvalid_output = valid_img.save(get_output_path(\"random_valid.jpg\"))\nprint(f\"✅ Valid ID (1): {valid_img.get_size()}\")\n\n# Invalid image ID (should fall back to random - no error!)\ntry:\n    invalid_img = kitten.generate(width=300, height=200, image_id=999)\n    invalid_output = invalid_img.save(get_output_path(\"random_invalid.jpg\"))\n    print(f\"✅ Invalid ID (999) → random fallback: {invalid_img.get_size()}\")\nexcept Exception as e:\n    print(f\"❌ Should not error: {e}\")\n\n# No image ID (should use random)\nno_id_img = kitten.generate(width=300, height=200)\nno_id_output = no_id_img.save(get_output_path(\"random_none.jpg\"))\nprint(f\"✅ No ID → random: {no_id_img.get_size()}\")\n\n# Force random selection\nforce_random = kitten.generate(width=300, height=200, image_id=1, random_selection=True)\nforce_output = force_random.save(get_output_path(\"random_forced.jpg\"))\nprint(f\"✅ Forced random (overrides ID): {force_random.get_size()}\")\n\nprint(\"\\n🎉 No errors! Invalid IDs gracefully fall back to random selection.\")\n\n# Display random examples\nfrom IPython.display import HTML\ndisplay(HTML(f\"\"\"\n<div style=\"display: flex; gap: 15px; flex-wrap: wrap;\">\n    <div style=\"text-align: center;\">\n        <h4>Valid ID (1)</h4>\n        <img src=\"{valid_output}\" style=\"max-width: 150px; border: 2px solid #0f0;\">\n    </div>\n    <div style=\"text-align: center;\">\n        <h4>Invalid ID (999) → Random</h4>\n        <img src=\"{invalid_output}\" style=\"max-width: 150px; border: 2px solid #f80;\">\n    </div>\n    <div style=\"text-align: center;\">\n        <h4>No ID → Random</h4>\n        <img src=\"{no_id_output}\" style=\"max-width: 150px; border: 2px solid #80f;\">\n    </div>\n    <div style=\"text-align: center;\">\n        <h4>Forced Random</h4>\n        <img src=\"{force_output}\" style=\"max-width: 150px; border: 2px solid #f08;\">\n    </div>\n</div>\n\"\"\"))"
  },
  {
   "cell_type": "markdown",
   "metadata": {},
   "source": "## 5. Smart Cropping with Computer Vision\n\nThis demonstrates the 9-step intelligent cropping process:\n1. Original analysis\n2. Grayscale conversion\n3. Noise reduction (Gaussian blur)\n4. Edge detection (Canny algorithm)\n5. Contour analysis\n6. Subject bounding box\n7. Rule of thirds grid\n8. Optimal crop area\n9. Final result",
   "outputs": []
  },
  {
   "cell_type": "code",
   "metadata": {},
   "outputs": [],
   "source": "# Test all available filters\nfilters_to_test = ['grayscale', 'sepia', 'blur', 'invert', 'pixelate']\nfilter_results = {}\n\nbase_processor = kitten.generate(width=400, height=300, image_id=3)  # Now 1-based indexing\n\n# Generate original\noriginal_file = base_processor.save(get_output_path(\"notebook_original.jpg\"))\nfilter_results['original'] = original_file\n\n# Apply each filter\nfor filter_name in filters_to_test:\n    try:\n        filtered_processor = base_processor.apply_filter(filter_name)\n        output_file = filtered_processor.save(get_output_path(f\"notebook_{filter_name}.jpg\"))\n        filter_results[filter_name] = output_file\n        print(f\"✅ {filter_name} filter applied\")\n    except Exception as e:\n        print(f\"❌ {filter_name} filter failed: {e}\")\n        filter_results[filter_name] = None\n\nprint(f\"\\n📊 Generated {len([f for f in filter_results.values() if f])} filter variations\")"
  },
  {
   "cell_type": "code",
   "execution_count": null,
   "metadata": {},
   "outputs": [],
   "source": [
    "# Display filter results in a grid\n",
    "available_filters = [(k, v) for k, v in filter_results.items() if v and os.path.exists(v)]\n",
    "n_filters = len(available_filters)\n",
    "\n",
    "if n_filters > 0:\n",
    "    cols = 3\n",
    "    rows = (n_filters + cols - 1) // cols\n",
    "    \n",
    "    fig, axes = plt.subplots(rows, cols, figsize=(12, 4 * rows))\n",
    "    fig.suptitle('PlaceKitten Filter Pipeline Results', fontsize=16)\n",
    "    \n",
    "    # Handle single row case\n",
    "    if rows == 1:\n",
    "        axes = [axes] if cols == 1 else axes\n",
    "    \n",
    "    for i, (filter_name, filepath) in enumerate(available_filters):\n",
    "        row = i // cols\n",
    "        col = i % cols\n",
    "        \n",
    "        ax = axes[row][col] if rows > 1 else axes[col]\n",
    "        \n",
    "        img = mpimg.imread(filepath)\n",
    "        ax.imshow(img)\n",
    "        ax.set_title(filter_name.title(), fontsize=12)\n",
    "        ax.axis('off')\n",
    "    \n",
    "    # Hide empty subplots\n",
    "    for i in range(n_filters, rows * cols):\n",
    "        row = i // cols\n",
    "        col = i % cols\n",
    "        ax = axes[row][col] if rows > 1 else axes[col]\n",
    "        ax.axis('off')\n",
    "    \n",
    "    plt.tight_layout()\n",
    "    plt.show()\n",
    "else:\n",
    "    print(\"❌ No filter results to display\")"
   ]
  },
  {
   "cell_type": "markdown",
   "metadata": {},
   "source": [
    "## 6. Method Chaining Demo\n",
    "\n",
    "Demonstrate the fluent interface with method chaining:"
   ]
  },
  {
   "cell_type": "code",
   "metadata": {},
   "outputs": [],
   "source": "# Complex method chaining example\nchained_result = (\n    kitten.generate(width=800, height=600, image_id=1)  # Now 1-based indexing\n    .smart_crop(width=600, height=400, save_steps=False)\n    .apply_filter(\"sepia\")\n    .save(get_output_path(\"notebook_chained.jpg\"))\n)\n\nprint(f\"✅ Method chaining completed: {chained_result}\")\ndisplay(Image(chained_result))\n\n# Show the power of chaining\nprint(\"\\n🔗 This single chain performed:\")\nprint(\"   1. Generated 800x600 image from kitten #1\")\nprint(\"   2. Smart cropped to 600x400 with computer vision\")\nprint(\"   3. Applied sepia filter\")\nprint(\"   4. Saved the final result\")"
  },
  {
   "cell_type": "markdown",
   "metadata": {},
   "source": [
    "## 7. Batch Processing Demo"
   ]
  },
  {
   "cell_type": "code",
   "metadata": {},
   "outputs": [],
   "source": "# Batch processing configuration\nbatch_configs = [\n    {\"width\": 400, \"height\": 300, \"filter_type\": \"grayscale\", \"image_id\": 1},  # Now 1-based\n    {\"width\": 500, \"height\": 281, \"filter_type\": \"sepia\", \"image_id\": 2},\n    {\"width\": 600, \"height\": 400, \"filter_type\": \"blur\", \"image_id\": 3},\n]\n\n# Process batch in output folder\nbatch_results = kitten.batch_process(batch_configs, str(output_folder / \"batch_output\"))\n\nprint(f\"✅ Batch processing completed: {len(batch_results)} images\")\nfor i, result in enumerate(batch_results):\n    print(f\"   {i+1}. {result}\")\n\n# Display batch results\nif batch_results:\n    fig, axes = plt.subplots(1, len(batch_results), figsize=(15, 5))\n    fig.suptitle('Batch Processing Results', fontsize=16)\n    \n    if len(batch_results) == 1:\n        axes = [axes]\n    \n    for i, result_path in enumerate(batch_results):\n        if os.path.exists(result_path):\n            img = mpimg.imread(result_path)\n            axes[i].imshow(img)\n            config = batch_configs[i]\n            title = f\"{config['width']}x{config['height']}\\n{config['filter_type']}\"\n            axes[i].set_title(title, fontsize=10)\n            axes[i].axis('off')\n    \n    plt.tight_layout()\n    plt.show()"
  },
  {
   "cell_type": "markdown",
   "metadata": {},
   "source": [
    "## 8. Performance and Crop Information"
   ]
  },
  {
   "cell_type": "code",
   "metadata": {},
   "outputs": [],
   "source": "import time\n\n# Performance test\nstart_time = time.time()\n\n# Generate and process an image\nprocessor = kitten.generate(width=1200, height=800, image_id=1)  # Now 1-based indexing\nsmart_processor = processor.smart_crop(width=1920, height=1080, save_steps=False)\nresult = smart_processor.save(get_output_path(\"notebook_performance_test.jpg\"))\n\nend_time = time.time()\nprocessing_time = end_time - start_time\n\nprint(f\"⏱️  Processing time: {processing_time:.2f} seconds\")\nprint(f\"📊 Generated 1920x1080 image with smart cropping\")\n\n# Show crop information if available\nif hasattr(smart_processor, 'crop_info'):\n    crop_info = smart_processor.crop_info\n    print(f\"\\n🔍 Crop Information:\")\n    print(f\"   Original size: {crop_info.get('original_size', 'N/A')}\")\n    print(f\"   Target size: {crop_info.get('target_size', 'N/A')}\")\n    print(f\"   Crop box: {crop_info.get('crop_box', 'N/A')}\")\n    print(f\"   Subject bbox: {crop_info.get('subject_bbox', 'N/A')}\")\n    print(f\"   Contour area: {crop_info.get('contour_area', 'N/A')}\")\n\n# Display final performance test result\nif os.path.exists(result):\n    display(Image(result))"
  },
  {
   "cell_type": "markdown",
   "metadata": {},
   "source": "## 9. Summary\n\n🎉 **PlaceKitten Enhanced Features Complete!**\n\n### ✅ **New Flexible Features**:\n- **Optional dimensions**: width only, height only, both, or neither\n- **Aspect ratio preservation**: Automatic scaling calculations\n- **Smart random selection**: Graceful fallback for invalid image IDs\n- **1-based indexing**: Intuitive numbering (1=first image)\n\n### ✅ **Existing Advanced Features**:\n- **Computer Vision Pipeline**: Edge detection, contour analysis, subject identification  \n- **Smart Cropping Engine**: Rule-of-thirds, optimal positioning, boundary safety  \n- **Step Visualization**: 9-step debug output with processing stages  \n- **Filter Pipeline**: Multiple filters with method chaining  \n- **Batch Processing**: Multiple image processing workflows  \n- **Performance**: Fast processing with detailed crop information  \n\n### 🔄 **Full Backward Compatibility**:\nAll existing code continues to work unchanged. The library is now more flexible while maintaining all original functionality.\n\nThe PlaceKitten library is ready for Phase 3 (Advanced Features) and Phase 4 (MCP Integration)!",
   "outputs": []
  },
  {
   "cell_type": "code",
   "metadata": {},
   "outputs": [],
   "source": "# Cleanup generated files (optional)\nimport glob\n\n# List all generated files in output folder\ngenerated_files = list(output_folder.glob(\"notebook_*\")) + list(output_folder.glob(\"*batch_output*\"))\nprint(f\"📁 Generated {len(generated_files)} files during this demo:\")\nfor f in sorted(generated_files):\n    print(f\"   📄 {f.name}\")\n\nprint(f\"\\n📁 All files saved in: {output_folder.absolute()}\")\n\n# Uncomment to clean up:\n# for f in generated_files:\n#     try:\n#         f.unlink()\n#         print(f\"🗑️  Removed {f.name}\")\n#     except:\n#         pass"
  }
 ],
 "metadata": {
  "kernelspec": {
   "display_name": "Python 3",
   "language": "python",
   "name": "python3"
  },
  "language_info": {
   "codemirror_mode": {
    "name": "ipython",
    "version": 3
   },
   "file_extension": ".py",
   "mimetype": "text/x-python",
   "name": "python",
   "nbconvert_exporter": "python",
   "pygments_lexer": "ipython3",
   "version": "3.12.10"
  }
 },
 "nbformat": 4,
 "nbformat_minor": 4
}